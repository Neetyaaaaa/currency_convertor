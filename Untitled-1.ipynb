{
 "cells": [
  {
   "cell_type": "code",
   "execution_count": 5,
   "metadata": {},
   "outputs": [],
   "source": [
    "import tkinter as tk\n",
    "from tkinter import messagebox\n",
    "\n",
    "# Static exchange rates (1 unit of 'from' = ? units of 'to')\n",
    "# Base currency: USD\n",
    "exchange_rates = {\n",
    "    'USD': {'USD': 1, 'INR': 83.2, 'EUR': 0.92, 'JPY': 151.1},\n",
    "    'INR': {'USD': 1/83.2, 'INR': 1, 'EUR': 0.011, 'JPY': 1.82},\n",
    "    'EUR': {'USD': 1.09, 'INR': 90.9, 'EUR': 1, 'JPY': 164.0},\n",
    "    'JPY': {'USD': 0.0066, 'INR': 0.55, 'EUR': 0.0061, 'JPY': 1}\n",
    "}\n",
    "\n",
    "currencies = list(exchange_rates.keys())\n",
    "\n",
    "def convert_currency(event=None):\n",
    "    try:\n",
    "        amount = float(entry_amount.get())\n",
    "        from_curr = from_var.get()\n",
    "        to_curr = to_var.get()\n",
    "\n",
    "        if from_curr not in exchange_rates or to_curr not in exchange_rates[from_curr]:\n",
    "            raise ValueError(\"Invalid currency selected.\")\n",
    "\n",
    "        result = amount * exchange_rates[from_curr][to_curr]\n",
    "        messagebox.showinfo(\"Conversion Result\", f\"{amount:.2f} {from_curr} = {result:.2f} {to_curr}\")\n",
    "    except Exception as e:\n",
    "        messagebox.showerror(\"Error\", f\"Conversion failed: {str(e)}\")\n",
    "\n",
    "# GUI setup\n",
    "root = tk.Tk()\n",
    "root.title(\"Currency Converter\")\n",
    "\n",
    "tk.Label(root, text=\"Amount:\").grid(row=0, column=0, padx=10, pady=5)\n",
    "entry_amount = tk.Entry(root)\n",
    "entry_amount.grid(row=0, column=1)\n",
    "\n",
    "tk.Label(root, text=\"From currency:\").grid(row=1, column=0)\n",
    "from_var = tk.StringVar(value=\"USD\")\n",
    "from_menu = tk.OptionMenu(root, from_var, *currencies)\n",
    "from_menu.grid(row=1, column=1)\n",
    "\n",
    "tk.Label(root, text=\"To currency:\").grid(row=2, column=0)\n",
    "to_var = tk.StringVar(value=\"INR\")\n",
    "to_menu = tk.OptionMenu(root, to_var, *currencies)\n",
    "to_menu.grid(row=2, column=1)\n",
    "\n",
    "tk.Button(root, text=\"Convert\", command=convert_currency).grid(row=3, columnspan=2, pady=10)\n",
    "\n",
    "# Bind Enter key\n",
    "root.bind(\"<Return>\", convert_currency)\n",
    "\n",
    "root.mainloop()\n"
   ]
  }
 ],
 "metadata": {
  "kernelspec": {
   "display_name": "Python 3",
   "language": "python",
   "name": "python3"
  },
  "language_info": {
   "codemirror_mode": {
    "name": "ipython",
    "version": 3
   },
   "file_extension": ".py",
   "mimetype": "text/x-python",
   "name": "python",
   "nbconvert_exporter": "python",
   "pygments_lexer": "ipython3",
   "version": "3.11.9"
  }
 },
 "nbformat": 4,
 "nbformat_minor": 2
}
